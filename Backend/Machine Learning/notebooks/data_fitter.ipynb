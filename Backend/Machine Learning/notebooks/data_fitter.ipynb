{
 "cells": [
  {
   "cell_type": "code",
   "execution_count": null,
   "metadata": {},
   "outputs": [],
   "source": [
    "__author__ = \"Casper Kristiansson\"\n",
    "__copyright__ = \"WeatherBrain\"\n",
    "\n",
    "__maintainer__ = \"Casper Kristiansson\"\n",
    "__email__ = \"casperkr@kth.se\"\n",
    "__status__ = \"Development\""
   ]
  },
  {
   "cell_type": "code",
   "execution_count": 80,
   "metadata": {},
   "outputs": [
    {
     "name": "stdout",
     "output_type": "stream",
     "text": [
      "(95694, 6)\n",
      "                      date  temperature_one  temperature_two  \\\n",
      "0      1756-01-01 00:00:00             -8.0             -9.0   \n",
      "1      1756-01-02 00:00:00             -9.0             -9.0   \n",
      "2      1756-01-03 00:00:00            -10.0             -7.0   \n",
      "3      1756-01-04 00:00:00             -7.0             -8.0   \n",
      "4      1756-01-05 00:00:00             -9.0             -5.0   \n",
      "...                    ...              ...              ...   \n",
      "95689  2017-12-27 00:00:00              2.9              3.5   \n",
      "95690  2017-12-28 00:00:00              4.3              4.9   \n",
      "95691  2017-12-29 00:00:00              2.9              2.7   \n",
      "95692  2017-12-30 00:00:00              1.4              1.4   \n",
      "95693  2017-12-31 00:00:00              2.5              3.2   \n",
      "\n",
      "       temperature_three  temperature_four  temperature_five  \n",
      "0                    NaN               NaN               NaN  \n",
      "1                    NaN               NaN               NaN  \n",
      "2                    NaN               NaN               NaN  \n",
      "3                    NaN               NaN               NaN  \n",
      "4                    NaN               NaN               NaN  \n",
      "...                  ...               ...               ...  \n",
      "95689                3.1               4.4               2.6  \n",
      "95690                4.8               5.5               3.1  \n",
      "95691                3.1               4.8               2.6  \n",
      "95692                2.7               3.1               1.0  \n",
      "95693                3.1               3.4               2.3  \n",
      "\n",
      "[95694 rows x 6 columns]\n"
     ]
    }
   ],
   "source": [
    "import pandas\n",
    "\n",
    "dataframe_temperature = pandas.read_csv('..\\\\Data\\\\Processed Data\\\\Temperature.csv')\n",
    "dataframe_hpa = pandas.read_csv('..\\\\Data\\\\Processed Data\\\\hPa.csv')\n",
    "\n",
    "print(dataframe_temperature.shape)\n",
    "print(dataframe_temperature)"
   ]
  },
  {
   "cell_type": "code",
   "execution_count": 81,
   "metadata": {},
   "outputs": [
    {
     "name": "stdout",
     "output_type": "stream",
     "text": [
      "1020.15 [1018.5, nan, 1021.8]\n"
     ]
    }
   ],
   "source": [
    "row_hpa = dataframe_hpa.iloc[10000]\n",
    "mean_hpa = np.nanmean([row_hpa['hPa_one'], row_hpa['hPa_two'], row_hpa['hPa_three']])\n",
    "print(mean_hpa, [row_hpa['hPa_one'], row_hpa['hPa_two'], row_hpa['hPa_three']])"
   ]
  },
  {
   "cell_type": "code",
   "execution_count": null,
   "metadata": {},
   "outputs": [],
   "source": [
    "import math\n",
    "import datetime\n",
    "import numpy as np\n",
    "\n",
    "result = []\n",
    "\n",
    "for index, row in dataframe_temperature.iterrows():\n",
    "    time = datetime.datetime.strptime(row['date'], '%Y-%m-%d %H:%M:%S')\n",
    "    data = []\n",
    "    length = 0\n",
    "    mean = 0\n",
    "    for value in row:\n",
    "        if type(value) == float and not math.isnan(value):\n",
    "            length += 1\n",
    "            mean += value\n",
    "\n",
    "    if length == 0:\n",
    "        continue\n",
    "    \n",
    "    mean = mean / length\n",
    "    time_difference = 24 / length\n",
    "\n",
    "    row_hpa = dataframe_hpa.iloc[index]\n",
    "\n",
    "    if all(np.isnan(x) for x in [row_hpa['hPa_one'], row_hpa['hPa_two'], row_hpa['hPa_three']]):\n",
    "        mean_hpa = np.nan\n",
    "    else:\n",
    "        mean_hpa = np.nanmean([row_hpa['hPa_one'], row_hpa['hPa_two'], row_hpa['hPa_three']])\n",
    "    \n",
    "    for value in row:\n",
    "        if type(value) == float and not math.isnan(value):\n",
    "            data.append(\n",
    "                [time, value, mean, mean_hpa]\n",
    "            )\n",
    "            time += datetime.timedelta(hours=time_difference)\n",
    "\n",
    "    result.append(\n",
    "        pandas.DataFrame(data, columns=['Date', 'Temperature', 'Mean Temperature', 'Mean hPa'])\n",
    "    )\n",
    "\n",
    "dataframe_result = pandas.concat(result)"
   ]
  },
  {
   "cell_type": "code",
   "execution_count": 79,
   "metadata": {},
   "outputs": [
    {
     "name": "stdout",
     "output_type": "stream",
     "text": [
      "                  Date  Temperature  Mean Temperature     Mean hPa\n",
      "0  1756-01-01 00:00:00         -8.0              -8.5  1003.000000\n",
      "1  1756-01-01 12:00:00         -9.0              -8.5  1003.000000\n",
      "0  1756-01-02 00:00:00         -9.0              -9.0  1009.800000\n",
      "1  1756-01-02 12:00:00         -9.0              -9.0  1009.800000\n",
      "0  1756-01-03 00:00:00        -10.0              -8.5  1012.650000\n",
      "..                 ...          ...               ...          ...\n",
      "0  2017-12-31 00:00:00          2.5               2.9   997.866667\n",
      "1  2017-12-31 04:48:00          3.2               2.9   997.866667\n",
      "2  2017-12-31 09:36:00          3.1               2.9   997.866667\n",
      "3  2017-12-31 14:24:00          3.4               2.9   997.866667\n",
      "4  2017-12-31 19:12:00          2.3               2.9   997.866667\n",
      "\n",
      "[401113 rows x 4 columns]\n"
     ]
    }
   ],
   "source": [
    "print(dataframe_result)\n",
    "dataframe_result.to_csv('..\\\\Data\\\\Processed Data\\\\Combined Cleaned.csv', index=False)"
   ]
  },
  {
   "cell_type": "code",
   "execution_count": 65,
   "metadata": {},
   "outputs": [
    {
     "name": "stdout",
     "output_type": "stream",
     "text": [
      "Index(['Date', 'Temperature', 'Mean'], dtype='object')\n",
      "Index(['date', 'hPa_one', 'hPa_two', 'hPa_three'], dtype='object')\n"
     ]
    }
   ],
   "source": [
    "dataframe_result = pandas.read_csv('..\\\\Data\\\\Processed Data\\\\Temperature_cleaned.csv')\n",
    "dataframe_hpa = pandas.read_csv('..\\\\Data\\\\Processed Data\\\\hPa.csv')\n",
    "\n",
    "print(dataframe_result.columns)\n",
    "print(dataframe_hpa.columns)"
   ]
  },
  {
   "cell_type": "code",
   "execution_count": 66,
   "metadata": {},
   "outputs": [],
   "source": [
    "import datetime\n",
    "\n",
    "for index, row in dataframe_result.iterrows():\n",
    "    dataframe_result.at[index, 'Date'] = datetime.datetime.strptime(row['Date'], '%Y-%m-%d %H:%M:%S')\n",
    "\n",
    "for index, row in dataframe_hpa.iterrows():\n",
    "    dataframe_hpa.at[index, 'date'] = datetime.datetime.strptime(row['date'], '%Y-%m-%d').date()"
   ]
  },
  {
   "cell_type": "code",
   "execution_count": null,
   "metadata": {},
   "outputs": [],
   "source": [
    "import datetime\n",
    "result = []\n",
    "\n",
    "for index_hpa, row_hpa in dataframe_hpa.iterrows():\n",
    "    mean = (row_hpa['hPa_one'] + row_hpa['hPa_two'] + row_hpa['hPa_three']) / 3\n",
    "    search = False\n",
    "    for index_temp, row_temp in dataframe_result.iterrows():\n",
    "        if row_temp['Date'].year == row_hpa['date'].year and row_temp['Date'].month == row_hpa['date'].month and row_temp['Date'].day == row_hpa['date'].day:\n",
    "            search = True\n",
    "            result.append(\n",
    "                pandas.DataFrame([[row_temp['Date'], row_temp['Temperature'], row_temp['Mean'], mean]], columns=['Date', 'Temperature', 'Mean', 'hPa'])\n",
    "            )\n",
    "        elif search:\n",
    "            break\n",
    "    \n",
    "    if index_hpa % 1000 == 0:\n",
    "        print(f'{index_hpa}/{len(dataframe_hpa)}')"
   ]
  },
  {
   "cell_type": "code",
   "execution_count": 67,
   "metadata": {},
   "outputs": [],
   "source": [
    "dataframe_copy = dataframe_result.copy()\n",
    "dataframe_copy.insert(3, 'hPa', 0)"
   ]
  },
  {
   "cell_type": "code",
   "execution_count": null,
   "metadata": {},
   "outputs": [],
   "source": [
    "import math\n",
    "\n",
    "for index, row in dataframe_copy.iterrows():\n",
    "    hpa_row = dataframe_hpa.loc[dataframe_hpa['date'] == row['Date'].date()]\n",
    "    mean = 0\n",
    "    length = 0\n",
    "\n",
    "    for index in range(1, len(hpa_row.iloc[0])):\n",
    "        hpa_row.iloc[0][index] = float(hpa_row.iloc[0][index])\n",
    "        if math.isnan(hpa_row.iloc[0][index]):\n",
    "            length += 1\n",
    "            mean += value\n",
    "\n",
    "    dataframe_copy.at[index, 'hPa'] = mean / length\n",
    "\n",
    "    if index % 5000 == 0:\n",
    "        print(f'{index}/{len(dataframe_copy)}')\n"
   ]
  },
  {
   "cell_type": "code",
   "execution_count": 37,
   "metadata": {},
   "outputs": [
    {
     "name": "stdout",
     "output_type": "stream",
     "text": [
      "2022-04-17\n"
     ]
    }
   ],
   "source": [
    "print(datetime.datetime.today().date())"
   ]
  }
 ],
 "metadata": {
  "interpreter": {
   "hash": "db5b14a1bf23f673dbb589bf56db03de2527819ab1c9bbe46a7c5fe1b1b5af0e"
  },
  "kernelspec": {
   "display_name": "Python 3.9.7 ('venv': venv)",
   "language": "python",
   "name": "python3"
  },
  "language_info": {
   "codemirror_mode": {
    "name": "ipython",
    "version": 3
   },
   "file_extension": ".py",
   "mimetype": "text/x-python",
   "name": "python",
   "nbconvert_exporter": "python",
   "pygments_lexer": "ipython3",
   "version": "3.9.7"
  },
  "orig_nbformat": 4
 },
 "nbformat": 4,
 "nbformat_minor": 2
}
